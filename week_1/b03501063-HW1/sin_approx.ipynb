{
 "cells": [
  {
   "cell_type": "code",
   "execution_count": 7,
   "metadata": {},
   "outputs": [],
   "source": [
    "import math"
   ]
  },
  {
   "cell_type": "code",
   "execution_count": 29,
   "metadata": {},
   "outputs": [],
   "source": [
    "def sin_approx(x):\n",
    "    N = 1\n",
    "    sum = 0\n",
    "    while (N <= 25):\n",
    "        sin_x = pow(x, 2*N -1) / math.factorial(2*N - 1) * pow(-1, N-1)\n",
    "        sum += sin_x\n",
    "        N = N + 1\n",
    "    return sum"
   ]
  },
  {
   "cell_type": "code",
   "execution_count": 33,
   "metadata": {},
   "outputs": [
    {
     "name": "stdout",
     "output_type": "stream",
     "text": [
      "sin(1.2) approximation is 0.9320390859672263\n"
     ]
    }
   ],
   "source": [
    "print(\"sin(1.2) approximation is\", sin_approx(1.2))"
   ]
  }
 ],
 "metadata": {
  "kernelspec": {
   "display_name": "Python 3",
   "language": "python",
   "name": "python3"
  },
  "language_info": {
   "codemirror_mode": {
    "name": "ipython",
    "version": 3
   },
   "file_extension": ".py",
   "mimetype": "text/x-python",
   "name": "python",
   "nbconvert_exporter": "python",
   "pygments_lexer": "ipython3",
   "version": "3.6.5"
  }
 },
 "nbformat": 4,
 "nbformat_minor": 2
}

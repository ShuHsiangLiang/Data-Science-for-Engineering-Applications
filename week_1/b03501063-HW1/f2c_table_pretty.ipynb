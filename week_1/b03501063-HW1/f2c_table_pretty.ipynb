{
 "cells": [
  {
   "cell_type": "code",
   "execution_count": 13,
   "metadata": {},
   "outputs": [
    {
     "name": "stdout",
     "output_type": "stream",
     "text": [
      "F= 0, C= -17.8\n",
      "F= 10, C= -12.2\n",
      "F= 20, C= -6.7\n",
      "F= 30, C= -1.1\n",
      "F= 40, C= 4.4\n",
      "F= 50, C= 10.0\n",
      "F= 60, C= 15.6\n",
      "F= 70, C= 21.1\n",
      "F= 80, C= 26.7\n",
      "F= 90, C= 32.2\n",
      "F= 100, C= 37.8\n"
     ]
    }
   ],
   "source": [
    "for i in range(0, 110, 10) :\n",
    "    C_pretty = round((i-32) * 5 / 9, 1)\n",
    "    print(\"F= \" + str(i) + \", C= \" + str(C_pretty))"
   ]
  }
 ],
 "metadata": {
  "kernelspec": {
   "display_name": "Python 3",
   "language": "python",
   "name": "python3"
  },
  "language_info": {
   "codemirror_mode": {
    "name": "ipython",
    "version": 3
   },
   "file_extension": ".py",
   "mimetype": "text/x-python",
   "name": "python",
   "nbconvert_exporter": "python",
   "pygments_lexer": "ipython3",
   "version": "3.6.5"
  }
 },
 "nbformat": 4,
 "nbformat_minor": 2
}

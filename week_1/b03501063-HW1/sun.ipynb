{
 "cells": [
  {
   "cell_type": "code",
   "execution_count": 48,
   "metadata": {},
   "outputs": [],
   "source": [
    "import sun_data as sun\n",
    "import numpy as np\n",
    "month = [\"Jan\", \"Feb\", \"Mar\", \"Apr\", \"May\", \"Jun\", \"Jul\", \"Aug\", \"Sep\", \"Oct\", \"Nov\", \"Dec\"]"
   ]
  },
  {
   "cell_type": "code",
   "execution_count": 51,
   "metadata": {},
   "outputs": [
    {
     "name": "stdout",
     "output_type": "stream",
     "text": [
      "Jan 56.63827160493827\n",
      "Feb 72.66296296296298\n",
      "Mar 116.52222222222221\n",
      "Apr 153.20370370370367\n",
      "May 191.07037037037037\n",
      "Jun 198.54691358024692\n",
      "Jul 193.7506172839506\n",
      "Aug 184.3395061728395\n",
      "Sep 138.341975308642\n",
      "Oct 104.63333333333334\n",
      "Nov 67.37530864197531\n",
      "Dec 52.35432098765432\n"
     ]
    }
   ],
   "source": [
    "ave_month = np.zeros(12)\n",
    "for i in sun.data:\n",
    "    for j in range(0, 12):\n",
    "        ave_month[j] = ave_month[j] + i[j]\n",
    "        \n",
    "for i in range(0, 12):\n",
    "    print(month[i], ave_month[i] / len(sun.data))"
   ]
  }
 ],
 "metadata": {
  "kernelspec": {
   "display_name": "Python 3",
   "language": "python",
   "name": "python3"
  },
  "language_info": {
   "codemirror_mode": {
    "name": "ipython",
    "version": 3
   },
   "file_extension": ".py",
   "mimetype": "text/x-python",
   "name": "python",
   "nbconvert_exporter": "python",
   "pygments_lexer": "ipython3",
   "version": "3.6.5"
  }
 },
 "nbformat": 4,
 "nbformat_minor": 2
}

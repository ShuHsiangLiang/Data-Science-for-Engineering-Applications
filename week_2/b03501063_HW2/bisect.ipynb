{
 "cells": [
  {
   "cell_type": "code",
   "execution_count": 174,
   "metadata": {},
   "outputs": [],
   "source": [
    "def f(x) :\n",
    "    return 2*x - 3"
   ]
  },
  {
   "cell_type": "code",
   "execution_count": 183,
   "metadata": {},
   "outputs": [],
   "source": [
    "def bisection(f, a, b, eps) :\n",
    "    n = 0\n",
    "    while ((b - a >= eps) and (f(a) * f(b) <= 0)) : \n",
    "        m = (a+b) / 2\n",
    "        if (f(a) * f(m) > 0) :\n",
    "            a = m\n",
    "        else :\n",
    "            b = m\n",
    "        n = n + 1\n",
    "        print(\"Interation:\", n, \"interval =\", [a, b])\n",
    "    print(\"The root is\", a, \"found in\", n, \"iterations\")    \n",
    "    return (a, b)"
   ]
  },
  {
   "cell_type": "code",
   "execution_count": 184,
   "metadata": {},
   "outputs": [
    {
     "name": "stdout",
     "output_type": "stream",
     "text": [
      "Interation: 1 interval = [0, 1.5]\n",
      "Interation: 2 interval = [0.75, 1.5]\n",
      "Interation: 3 interval = [1.125, 1.5]\n",
      "Interation: 4 interval = [1.3125, 1.5]\n",
      "Interation: 5 interval = [1.40625, 1.5]\n",
      "Interation: 6 interval = [1.453125, 1.5]\n",
      "Interation: 7 interval = [1.4765625, 1.5]\n",
      "Interation: 8 interval = [1.48828125, 1.5]\n",
      "Interation: 9 interval = [1.494140625, 1.5]\n",
      "Interation: 10 interval = [1.4970703125, 1.5]\n",
      "Interation: 11 interval = [1.49853515625, 1.5]\n",
      "Interation: 12 interval = [1.499267578125, 1.5]\n",
      "Interation: 13 interval = [1.4996337890625, 1.5]\n",
      "Interation: 14 interval = [1.49981689453125, 1.5]\n",
      "Interation: 15 interval = [1.499908447265625, 1.5]\n",
      "Interation: 16 interval = [1.4999542236328125, 1.5]\n",
      "Interation: 17 interval = [1.4999771118164062, 1.5]\n",
      "Interation: 18 interval = [1.4999885559082031, 1.5]\n",
      "Interation: 19 interval = [1.4999942779541016, 1.5]\n",
      "The root is 1.4999942779541016 found in 19 iterations\n"
     ]
    },
    {
     "data": {
      "text/plain": [
       "(1.4999942779541016, 1.5)"
      ]
     },
     "execution_count": 184,
     "metadata": {},
     "output_type": "execute_result"
    }
   ],
   "source": [
    "bisection(f, 0, 3, eps = 1E-5)"
   ]
  },
  {
   "cell_type": "code",
   "execution_count": 185,
   "metadata": {},
   "outputs": [],
   "source": [
    "import math\n",
    "def g(x) :\n",
    "    return x-(x-1)*math.sin(x)"
   ]
  },
  {
   "cell_type": "code",
   "execution_count": 186,
   "metadata": {},
   "outputs": [
    {
     "name": "stdout",
     "output_type": "stream",
     "text": [
      "Interation: 1 interval = [-0.5, 1]\n",
      "Interation: 2 interval = [-0.5, 0.25]\n",
      "Interation: 3 interval = [-0.125, 0.25]\n",
      "Interation: 4 interval = [-0.125, 0.0625]\n",
      "Interation: 5 interval = [-0.03125, 0.0625]\n",
      "Interation: 6 interval = [-0.03125, 0.015625]\n",
      "Interation: 7 interval = [-0.0078125, 0.015625]\n",
      "Interation: 8 interval = [-0.0078125, 0.00390625]\n",
      "Interation: 9 interval = [-0.001953125, 0.00390625]\n",
      "Interation: 10 interval = [-0.001953125, 0.0009765625]\n",
      "Interation: 11 interval = [-0.00048828125, 0.0009765625]\n",
      "Interation: 12 interval = [-0.00048828125, 0.000244140625]\n",
      "Interation: 13 interval = [-0.0001220703125, 0.000244140625]\n",
      "Interation: 14 interval = [-0.0001220703125, 6.103515625e-05]\n",
      "Interation: 15 interval = [-3.0517578125e-05, 6.103515625e-05]\n",
      "Interation: 16 interval = [-3.0517578125e-05, 1.52587890625e-05]\n",
      "Interation: 17 interval = [-7.62939453125e-06, 1.52587890625e-05]\n",
      "Interation: 18 interval = [-7.62939453125e-06, 3.814697265625e-06]\n",
      "Interation: 19 interval = [-1.9073486328125e-06, 3.814697265625e-06]\n",
      "Interation: 20 interval = [-1.9073486328125e-06, 9.5367431640625e-07]\n",
      "Interation: 21 interval = [-4.76837158203125e-07, 9.5367431640625e-07]\n",
      "Interation: 22 interval = [-4.76837158203125e-07, 2.384185791015625e-07]\n",
      "The root is -4.76837158203125e-07 found in 22 iterations\n"
     ]
    },
    {
     "data": {
      "text/plain": [
       "(-4.76837158203125e-07, 2.384185791015625e-07)"
      ]
     },
     "execution_count": 186,
     "metadata": {},
     "output_type": "execute_result"
    }
   ],
   "source": [
    "bisection(g, -2, 1, eps = 1E-6)"
   ]
  }
 ],
 "metadata": {
  "kernelspec": {
   "display_name": "Python 3",
   "language": "python",
   "name": "python3"
  },
  "language_info": {
   "codemirror_mode": {
    "name": "ipython",
    "version": 3
   },
   "file_extension": ".py",
   "mimetype": "text/x-python",
   "name": "python",
   "nbconvert_exporter": "python",
   "pygments_lexer": "ipython3",
   "version": "3.6.6"
  }
 },
 "nbformat": 4,
 "nbformat_minor": 2
}
